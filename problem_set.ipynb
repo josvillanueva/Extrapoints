{
  "cells": [
    {
      "cell_type": "markdown",
      "metadata": {
        "id": "tH7y2qQcXqcK"
      },
      "source": [
        "# Problem Set\n",
        "[![Open In Colab](https://colab.research.google.com/assets/colab-badge.svg)](https://colab.research.google.com/github/HesusG/python-decision-making-support-analysis/blob/main/module_1/problem_set.ipynb)"
      ]
    },
    {
      "cell_type": "markdown",
      "metadata": {
        "id": "T_ecVqlAXqcT"
      },
      "source": [
        "## Problem Set Introduction \n",
        "\n",
        "Welcome to the Linear Programming Problem Set! 🙌\n",
        "\n",
        "This set consists of three bi-dimensional linear programming problems that require the application of a systematic six-step approach. These steps include:\n",
        "\n",
        "1. Identify the objective 🎯\n",
        "2. Specify decision variables ✏️\n",
        "3. Formulate the objective function 📋\n",
        "4. Define constraints ⛓️\n",
        "5. Consider hidden conditions 🔍\n",
        "6. Formulate the complete model ⚙️\n",
        "\n",
        "To solve these problems effectively, it is recommended to use Python, a powerful programming language that offers various libraries and solvers for linear programming. 🐍 Make sure to include code implementation for each problem to validate your results. 💻\n",
        "\n",
        "Remember to document your thought process, assumptions, and code implementation. This will aid in understanding the problem-solving approach and serve as a valuable reference.\n",
        "\n",
        "Let's begin solving these bi-dimensional linear programming problems using the six-step methodology and Python programming. Good luck and enjoy the problem-solving journey! 😄\n",
        "\n",
        "\n",
        "![Random Giphy](https://media.giphy.com/media/Ws6T5PN7wHv3cY8xy8/giphy.gif)\n",
        "\n",
        "* Remember to use the following code to install pulp in your notebook and make sure to load it by using import."
      ]
    },
    {
      "cell_type": "code",
      "execution_count": 1,
      "metadata": {
        "colab": {
          "base_uri": "https://localhost:8080/"
        },
        "id": "LoHc9FvEXqcV",
        "outputId": "073f36f9-1f4f-4996-fd15-a0dedbc6a741"
      },
      "outputs": [
        {
          "output_type": "stream",
          "name": "stdout",
          "text": [
            "Looking in indexes: https://pypi.org/simple, https://us-python.pkg.dev/colab-wheels/public/simple/\n",
            "Collecting pulp\n",
            "  Downloading PuLP-2.7.0-py3-none-any.whl (14.3 MB)\n",
            "\u001b[2K     \u001b[90m━━━━━━━━━━━━━━━━━━━━━━━━━━━━━━━━━━━━━━━━\u001b[0m \u001b[32m14.3/14.3 MB\u001b[0m \u001b[31m50.7 MB/s\u001b[0m eta \u001b[36m0:00:00\u001b[0m\n",
            "\u001b[?25hInstalling collected packages: pulp\n",
            "Successfully installed pulp-2.7.0\n"
          ]
        }
      ],
      "source": [
        "!pip install pulp"
      ]
    },
    {
      "cell_type": "code",
      "execution_count": 2,
      "metadata": {
        "id": "HQ0JPb4nXqcY"
      },
      "outputs": [],
      "source": [
        "from pulp import *"
      ]
    },
    {
      "cell_type": "markdown",
      "metadata": {
        "id": "Lizo7UuNXqcZ"
      },
      "source": [
        "## Problem 1\n",
        "A company manufactures and sells two types of hydraulic pumps: 1) Normal and 2) Heavy-duty. The production process for the pumps consists of three activities: assembly, painting, and testing (quality control), with their respective times listed in the table below. The profit contribution from selling a normal pump is $50, while a heavy-duty pump yields a profit of $75. There are 4800 hours available per week for assembly, 1980 hours for painting, and 900 hours for quality testing. Based on past experiences, the company expects to sell 300 normal pumps and 180 heavy-duty pumps. The manager is interested in determining the quantity of pumps to manufacture weekly in order to maximize profits."
      ]
    },
    {
      "cell_type": "markdown",
      "metadata": {
        "id": "2yv1bTPWXqca"
      },
      "source": [
        "|    Type     | Assembly Time | Painting Time | Testing Time |\n",
        "|-------------|---------------|---------------|--------------|\n",
        "|   Normal    |      3.6      |      1.6      |     0.6      |\n",
        "|   Heavy-duty |      4.8      |      1.8      |     0.6      |\n"
      ]
    },
    {
      "cell_type": "code",
      "execution_count": 16,
      "metadata": {
        "colab": {
          "base_uri": "https://localhost:8080/"
        },
        "id": "iTgRVrEKXqck",
        "outputId": "fd6e5d19-ca09-4bc9-fd76-8566c4f073dc"
      },
      "outputs": [
        {
          "output_type": "stream",
          "name": "stdout",
          "text": [
            "Optimal Solution\n",
            "Normal 300.0\n",
            "HEAVY-DUTY 775.0\n",
            "Profit 73125.0\n"
          ]
        }
      ],
      "source": [
        "# Your code goes here\n",
        "#Step 1\n",
        "prob = LpProblem(\"Maximize_Profits\",LpMaximize)\n",
        "#Identify the decision variables\n",
        "X1 = LpVariable(\"Normal\",lowBound=0, cat=\"integer\")\n",
        "X2 = LpVariable(\"HEAVY-DUTY\",lowBound=0, cat=\"integer\")\n",
        "\n",
        "#step 3 objective function \n",
        "prob += 50*X1 + 75*X2, \"Maximize_profits\"\n",
        "#step 4 constraints\n",
        "prob += 3.6*X1 + 4.8*X2 <=4800, \"Assembly Constraint \"\n",
        "prob += 1.6*X1 + 1.8*X2 <=1900, \"Painting constraint\"\n",
        "prob += 0.6*X1 + 0.6*X2 <=900, \"Testing constraint\"\n",
        "\n",
        "prob+= X1 >=300, \"normal constraint\"\n",
        "prob+= X2 >= 180, \"Heavy duty Contraint\"\n",
        "\n",
        "prob.solve()\n",
        "print(\"Optimal Solution\")\n",
        "print(\"Normal\", X1.varValue)\n",
        "print(\"HEAVY-DUTY\", X2.varValue)\n",
        "print(\"Profit\", prob.objective.value())\n",
        "\n",
        "\n"
      ]
    },
    {
      "cell_type": "markdown",
      "metadata": {
        "id": "XnV5EIjSXqcl"
      },
      "source": [
        "## Problem 2\n",
        " A company is interested in developing a fertilizer that contains a minimum of 100 units of potassium, 25 units of nitrogen, and 10 units of ammonia. For this purpose, they have products A and B, which cost 10 and 15 euros per ton in the market, respectively. The content of potassium, nitrogen, and ammonia per ton of product is shown in the following table.\n",
        "\n"
      ]
    },
    {
      "cell_type": "markdown",
      "metadata": {
        "id": "tkaUJU-sXqcm"
      },
      "source": [
        "|      | POTASSIUM | NITROGEN | AMMONIA |\n",
        "|---------|------------|----------|---------|\n",
        "| Product A |      2       |      0.3     |     0.2    |\n",
        "| Product B |      1       |      0.6     |     0.2    |\n"
      ]
    },
    {
      "cell_type": "code",
      "execution_count": 24,
      "metadata": {
        "colab": {
          "base_uri": "https://localhost:8080/"
        },
        "id": "JmAuTwF0Xqcn",
        "outputId": "7cae3054-1267-4138-eed6-e0716f5053eb"
      },
      "outputs": [
        {
          "output_type": "stream",
          "name": "stdout",
          "text": [
            "Optimal Solution\n",
            "A 38.888889\n",
            "B 22.222222\n",
            "Cost 722.22222\n"
          ]
        }
      ],
      "source": [
        "# Your code goes here\n",
        "#Step 1\n",
        "prob = LpProblem(\"Minimize_Cost\",LpMinimize)\n",
        "#Identify the decision variables\n",
        "X1 = LpVariable(\"A\",lowBound=0, cat=\"integer\")\n",
        "X2 = LpVariable(\"B\",lowBound=0, cat=\"integer\")\n",
        "\n",
        "#step 3 objective function \n",
        "prob += 10*X1 + 15*X2\n",
        "#step 4 constraints\n",
        "prob += 2*X1 + X2 >=100, \"Potassium\"\n",
        "prob += 0.3*X1 + 0.6*X2 >=25, \"nitrogen\"\n",
        "prob += 0.2*X1 + 0.2*X2 >=10, \"Ammonia\"\n",
        "\n",
        "prob.solve()\n",
        "print(\"Optimal Solution\")\n",
        "print(\"A\", X1.varValue)\n",
        "print(\"B\", X2.varValue)\n",
        "print(\"Cost\", prob.objective.value())\n"
      ]
    },
    {
      "cell_type": "markdown",
      "metadata": {
        "id": "hmMFTpypXqco"
      },
      "source": [
        "## Problem 3\n",
        "A bakery is famous for its two specialties: the imperial cake and the lime cake. The imperial cake requires half a kilogram of sugar and eight eggs, and it is sold for eight dollars. The lime cake requires one kilogram of sugar and eight eggs, and it is sold for ten dollars. In the warehouse, there are only ten kilograms of sugar and one hundred twenty eggs. What combination of these specialties can be made?"
      ]
    },
    {
      "cell_type": "markdown",
      "metadata": {
        "id": "qdUdH_TuXqcp"
      },
      "source": [
        "|            | Sugar (kilogram) | Eggs | Price |\n",
        "|------------|-----------------|------|-------|\n",
        "| Imperial Cake |      0.5        |   8   |  $ 8   |\n",
        "| Lime Cake   |        1          |   8   | $ 10  |\n"
      ]
    },
    {
      "cell_type": "code",
      "execution_count": 27,
      "metadata": {
        "colab": {
          "base_uri": "https://localhost:8080/"
        },
        "id": "pUxscwhJXqcq",
        "outputId": "28f7779d-d937-4c58-8dc0-16e9b84995cd"
      },
      "outputs": [
        {
          "output_type": "stream",
          "name": "stdout",
          "text": [
            "Optimal Solution\n",
            "Imperial Cake 10.0\n",
            "Lime Cake 5.0\n",
            "Revenue= 130.0\n"
          ]
        }
      ],
      "source": [
        "\n",
        "# Your code goes here\n",
        "#Step 1\n",
        "prob = LpProblem(\"Maximize_revenue\",LpMaximize)\n",
        "#Identify the decision variables\n",
        "X1 = LpVariable(\"Imperial Cake\",lowBound=0, cat=\"integer\")\n",
        "X2 = LpVariable(\"Lime Cake\",lowBound=0, cat=\"integer\")\n",
        "\n",
        "#step 3 objective function \n",
        "prob += 8*X1 + 10*X2\n",
        "#step 4 constraints\n",
        "prob += 0.5*X1 + X2 <=10, \"Sugar\"\n",
        "prob += 8*X1 + 8*X2 <=120, \"Eggs\"\n",
        "\n",
        "\n",
        "prob.solve()\n",
        "print(\"Optimal Solution\")\n",
        "print(\"Imperial Cake\", X1.varValue)\n",
        "print(\"Lime Cake\", X2.varValue)\n",
        "print(\"Revenue=\", prob.objective.value())\n"
      ]
    }
  ],
  "metadata": {
    "language_info": {
      "name": "python"
    },
    "orig_nbformat": 4,
    "colab": {
      "provenance": []
    },
    "kernelspec": {
      "name": "python3",
      "display_name": "Python 3"
    },
    "gpuClass": "standard"
  },
  "nbformat": 4,
  "nbformat_minor": 0
}